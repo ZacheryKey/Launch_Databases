{
 "cells": [
  {
   "cell_type": "code",
   "execution_count": 1,
   "metadata": {},
   "outputs": [],
   "source": [
    "import pymongo\n",
    "import pandas as pd\n",
    "import numpy as np\n",
    "from pymongo import MongoClient"
   ]
  },
  {
   "cell_type": "code",
   "execution_count": 2,
   "metadata": {},
   "outputs": [],
   "source": [
    "client = MongoClient('localhost', 27017)"
   ]
  },
  {
   "cell_type": "code",
   "execution_count": 3,
   "metadata": {},
   "outputs": [
    {
     "data": {
      "text/plain": [
       "MongoClient(host=['localhost:27017'], document_class=dict, tz_aware=False, connect=True)"
      ]
     },
     "execution_count": 3,
     "metadata": {},
     "output_type": "execute_result"
    }
   ],
   "source": [
    "client"
   ]
  },
  {
   "cell_type": "code",
   "execution_count": 4,
   "metadata": {},
   "outputs": [],
   "source": [
    "db = client.launch_week_2"
   ]
  },
  {
   "cell_type": "code",
   "execution_count": 5,
   "metadata": {},
   "outputs": [
    {
     "data": {
      "text/plain": [
       "Database(MongoClient(host=['localhost:27017'], document_class=dict, tz_aware=False, connect=True), 'launch_week_2')"
      ]
     },
     "execution_count": 5,
     "metadata": {},
     "output_type": "execute_result"
    }
   ],
   "source": [
    "db"
   ]
  },
  {
   "cell_type": "code",
   "execution_count": 6,
   "metadata": {},
   "outputs": [],
   "source": [
    "city = pd.read_csv('CITIES.csv')\n",
    "course = pd.read_csv('COURSES.csv')\n",
    "prof = pd.read_csv('PROFS.csv')\n",
    "school = pd.read_csv('SCHOOLS.csv')\n",
    "student = pd.read_csv('STUDENTS.csv')"
   ]
  },
  {
   "cell_type": "code",
   "execution_count": 7,
   "metadata": {},
   "outputs": [
    {
     "data": {
      "text/html": [
       "<div>\n",
       "<style scoped>\n",
       "    .dataframe tbody tr th:only-of-type {\n",
       "        vertical-align: middle;\n",
       "    }\n",
       "\n",
       "    .dataframe tbody tr th {\n",
       "        vertical-align: top;\n",
       "    }\n",
       "\n",
       "    .dataframe thead th {\n",
       "        text-align: right;\n",
       "    }\n",
       "</style>\n",
       "<table border=\"1\" class=\"dataframe\">\n",
       "  <thead>\n",
       "    <tr style=\"text-align: right;\">\n",
       "      <th></th>\n",
       "      <th>school_id</th>\n",
       "      <th>name</th>\n",
       "      <th>size</th>\n",
       "      <th>year_founded</th>\n",
       "      <th>dean_chair</th>\n",
       "      <th>num_majors</th>\n",
       "    </tr>\n",
       "  </thead>\n",
       "  <tbody>\n",
       "    <tr>\n",
       "      <td>0</td>\n",
       "      <td>SEAS</td>\n",
       "      <td>School of Engineering and Applied Science</td>\n",
       "      <td>3589</td>\n",
       "      <td>1901</td>\n",
       "      <td>Rodil</td>\n",
       "      <td>9</td>\n",
       "    </tr>\n",
       "    <tr>\n",
       "      <td>1</td>\n",
       "      <td>CAS</td>\n",
       "      <td>College of Arts and Sciences</td>\n",
       "      <td>7301</td>\n",
       "      <td>1872</td>\n",
       "      <td>Alvarado</td>\n",
       "      <td>152</td>\n",
       "    </tr>\n",
       "    <tr>\n",
       "      <td>2</td>\n",
       "      <td>LAW</td>\n",
       "      <td>Law School</td>\n",
       "      <td>832</td>\n",
       "      <td>1821</td>\n",
       "      <td>Yashtz</td>\n",
       "      <td>4</td>\n",
       "    </tr>\n",
       "    <tr>\n",
       "      <td>3</td>\n",
       "      <td>BUS</td>\n",
       "      <td>Darden School of Business</td>\n",
       "      <td>122</td>\n",
       "      <td>1971</td>\n",
       "      <td>Sialsd</td>\n",
       "      <td>3</td>\n",
       "    </tr>\n",
       "    <tr>\n",
       "      <td>4</td>\n",
       "      <td>COM</td>\n",
       "      <td>Mcintire School of Commerce</td>\n",
       "      <td>357</td>\n",
       "      <td>1923</td>\n",
       "      <td>Najir</td>\n",
       "      <td>11</td>\n",
       "    </tr>\n",
       "    <tr>\n",
       "      <td>5</td>\n",
       "      <td>NUR</td>\n",
       "      <td>School of Nursing</td>\n",
       "      <td>1201</td>\n",
       "      <td>1900</td>\n",
       "      <td>Mcdonnel</td>\n",
       "      <td>17</td>\n",
       "    </tr>\n",
       "    <tr>\n",
       "      <td>6</td>\n",
       "      <td>CPS</td>\n",
       "      <td>School of Continuing and Professional Studies</td>\n",
       "      <td>11</td>\n",
       "      <td>2001</td>\n",
       "      <td>Arrington</td>\n",
       "      <td>2</td>\n",
       "    </tr>\n",
       "    <tr>\n",
       "      <td>7</td>\n",
       "      <td>ARCH</td>\n",
       "      <td>School of Architecture</td>\n",
       "      <td>123</td>\n",
       "      <td>1989</td>\n",
       "      <td>Kim</td>\n",
       "      <td>5</td>\n",
       "    </tr>\n",
       "  </tbody>\n",
       "</table>\n",
       "</div>"
      ],
      "text/plain": [
       "  school_id                                            name  size   \\\n",
       "0      SEAS       School of Engineering and Applied Science   3589   \n",
       "1       CAS                   College of Arts and Sciences    7301   \n",
       "2       LAW                                     Law School     832   \n",
       "3       BUS                       Darden School of Business    122   \n",
       "4       COM                    Mcintire School of Commerce     357   \n",
       "5       NUR                              School of Nursing    1201   \n",
       "6       CPS  School of Continuing and Professional Studies      11   \n",
       "7      ARCH                         School of Architecture     123   \n",
       "\n",
       "   year_founded dean_chair  num_majors  \n",
       "0          1901     Rodil            9  \n",
       "1          1872  Alvarado          152  \n",
       "2          1821    Yashtz            4  \n",
       "3          1971     Sialsd           3  \n",
       "4          1923      Najir          11  \n",
       "5          1900   Mcdonnel          17  \n",
       "6          2001  Arrington           2  \n",
       "7          1989        Kim           5  "
      ]
     },
     "execution_count": 7,
     "metadata": {},
     "output_type": "execute_result"
    }
   ],
   "source": [
    "school"
   ]
  },
  {
   "cell_type": "code",
   "execution_count": 8,
   "metadata": {},
   "outputs": [],
   "source": [
    "collection = db.students"
   ]
  },
  {
   "cell_type": "code",
   "execution_count": 9,
   "metadata": {},
   "outputs": [
    {
     "name": "stdout",
     "output_type": "stream",
     "text": [
      "{'city_id': 3, 'zipcode': 15238, 'city': 'Pittsburgh', 'state': 'Pennsylvania', 'football': 'Pittsburgh Steelers', 'hockey': 'Pittsburgh Penguins', 'baseball': 'Pittsburgh Pirates', 'basketball': 'Pittsburgh Panthers', 'pop_size': 300286}\n"
     ]
    }
   ],
   "source": [
    "our_city = city[city['city_id'] == 3]\n",
    "\n",
    "temp_city= our_city.iloc[0]\n",
    "city_dict = {}\n",
    "for b in range(len(temp_city)):\n",
    "    city_dict[temp_city.index[b]] = temp_city[b]\n",
    "print(city_dict)\n",
    "\n",
    "# for k in range(len(city)):\n",
    "#     temp_city = city.iloc[k]\n",
    "#     print(temp_city)"
   ]
  },
  {
   "cell_type": "code",
   "execution_count": 10,
   "metadata": {},
   "outputs": [],
   "source": [
    "def makeDict(df, j):\n",
    "    temp = df[df[temp_stud.index[j]] == temp_stud[j]].iloc[0]\n",
    "    df_dict = {}\n",
    "    for b in range(len(temp)):\n",
    "        if isinstance(temp[b], np.int64):\n",
    "            temp[b] = int(temp[b])\n",
    "        elif isinstance(temp[b], np.bool_):\n",
    "            temp[b] = bool(temp[b])\n",
    "        df_dict[temp.index[b]] = temp[b]\n",
    "        #print(type(temp[b]))\n",
    "    student_dict[temp_stud.index[j]] = df_dict\n",
    "    "
   ]
  },
  {
   "cell_type": "code",
   "execution_count": 11,
   "metadata": {},
   "outputs": [
    {
     "name": "stdout",
     "output_type": "stream",
     "text": [
      "{'computing_id': 'csksnj', 'first_name': 'Courtney', 'last_name': 'Kennedy', 'dob': '10/22/2000', 'city_id': {'city_id': 3, 'zipcode': 15238, 'city': 'Pittsburgh', 'state': 'Pennsylvania', 'football': 'Pittsburgh Steelers', 'hockey': 'Pittsburgh Penguins', 'baseball': 'Pittsburgh Pirates', 'basketball': 'Pittsburgh Panthers', 'pop_size': 300286}, 'course_id': {'course_id': 'SYS 2202', 'school_id': 'SEAS', 'dept': 'SYS ', 'credits': 3, 'prof_id': 7}, 'school_id': {'school_id': 'SEAS', 'name': 'School of Engineering and Applied Science', 'size ': 3589, 'year_founded': 1901, 'dean_chair': 'Rodil ', 'num_majors': 9}}\n",
      "\n",
      "\n",
      "\n",
      "\n",
      "{'computing_id': 'ztk2qv', 'first_name': 'Zachery', 'last_name': 'Key', 'dob': '6/20/2000', 'city_id': {'city_id': 4, 'zipcode': 24523, 'city': 'Bedford', 'state': 'Virginia', 'football': 'Liberty Minutemen', 'hockey': 'Bedford Beds', 'baseball': 'Bedford Bases', 'basketball': 'Bedford Baskets', 'pop_size': 6562}, 'course_id': {'course_id': 'ARCH 3200', 'school_id': 'ARCH', 'dept': 'ARCH ', 'credits': 3, 'prof_id': 11}, 'school_id': {'school_id': 'SEAS', 'name': 'School of Engineering and Applied Science', 'size ': 3589, 'year_founded': 1901, 'dean_chair': 'Rodil ', 'num_majors': 9}}\n",
      "\n",
      "\n",
      "\n",
      "\n",
      "{'computing_id': 'jms6vb', 'first_name': 'Jon Marco', 'last_name': 'Sanchez', 'dob': '4/20/1969', 'city_id': {'city_id': 2, 'zipcode': 24014, 'city': 'Roanoke', 'state': 'Virginia', 'football': 'Roanoke Steam', 'hockey': 'Roanoke Rail Yard Dawgs', 'baseball': 'Salem Red Sox', 'basketball': 'Roanoke Maroons', 'pop_size': 99229}, 'course_id': {'course_id': 'SYS 3034', 'school_id': 'SEAS', 'dept': 'SYS ', 'credits': 3, 'prof_id': 5}, 'school_id': {'school_id': 'CAS', 'name': 'College of Arts and Sciences ', 'size ': 7301, 'year_founded': 1872, 'dean_chair': 'Alvarado ', 'num_majors': 152}}\n",
      "\n",
      "\n",
      "\n",
      "\n",
      "{'computing_id': 'ac9kf', 'first_name': 'Arwen', 'last_name': 'Chandler', 'dob': '3/12/2002', 'city_id': {'city_id': 1, 'zipcode': 22031, 'city': 'Fairfax', 'state': 'Virginia', 'football': 'Fairfax Rebels', 'hockey': 'Fairfax Narwhals', 'baseball': 'Burke Bulldogs', 'basketball': 'Fairfax Foxes', 'pop_size': 23531}, 'course_id': {'course_id': 'KINE 1010', 'school_id': 'NUR', 'dept': 'KINE', 'credits': 1, 'prof_id': 6}, 'school_id': {'school_id': 'CAS', 'name': 'College of Arts and Sciences ', 'size ': 7301, 'year_founded': 1872, 'dean_chair': 'Alvarado ', 'num_majors': 152}}\n",
      "\n",
      "\n",
      "\n",
      "\n",
      "{'computing_id': 'tes2fl', 'first_name': 'Taylor', 'last_name': 'Swift', 'dob': '12/13/1989', 'city_id': {'city_id': 10, 'zipcode': 94016, 'city': 'San Francisco', 'state': 'California', 'football': 'San Francisco 49ers', 'hockey': 'San Francisco Seals', 'baseball': 'San Francisco Giants', 'basketball': 'Golden State Warriors', 'pop_size': 874961}, 'course_id': {'course_id': 'CS 2150', 'school_id': 'SEAS', 'dept': 'CS', 'credits': 3, 'prof_id': 2}, 'school_id': {'school_id': 'CAS', 'name': 'College of Arts and Sciences ', 'size ': 7301, 'year_founded': 1872, 'dean_chair': 'Alvarado ', 'num_majors': 152}}\n",
      "\n",
      "\n",
      "\n",
      "\n",
      "{'computing_id': 'jfe9fu', 'first_name': 'Joe', 'last_name': 'Exotic', 'dob': '3/5/1963', 'city_id': {'city_id': 3, 'zipcode': 15238, 'city': 'Pittsburgh', 'state': 'Pennsylvania', 'football': 'Pittsburgh Steelers', 'hockey': 'Pittsburgh Penguins', 'baseball': 'Pittsburgh Pirates', 'basketball': 'Pittsburgh Panthers', 'pop_size': 300286}, 'course_id': {'course_id': 'ENWR 1000', 'school_id': 'CAS', 'dept': 'ENWR', 'credits': 3, 'prof_id': 3}, 'school_id': {'school_id': 'COM', 'name': 'Mcintire School of Commerce ', 'size ': 357, 'year_founded': 1923, 'dean_chair': 'Najir', 'num_majors': 11}}\n",
      "\n",
      "\n",
      "\n",
      "\n",
      "{'computing_id': 'ggf2re', 'first_name': 'Guy', 'last_name': 'Fieri', 'dob': '1/22/1968', 'city_id': {'city_id': 7, 'zipcode': 60007, 'city': 'Chicago', 'state': 'Illinois', 'football': 'Chicago Bears', 'hockey': 'Chicago Blackhawks', 'baseball': 'Chicago Cubs', 'basketball': 'Chicago Bulls', 'pop_size': 2693976}, 'course_id': {'course_id': 'SYS 2202', 'school_id': 'SEAS', 'dept': 'SYS ', 'credits': 3, 'prof_id': 7}, 'school_id': {'school_id': 'COM', 'name': 'Mcintire School of Commerce ', 'size ': 357, 'year_founded': 1923, 'dean_chair': 'Najir', 'num_majors': 11}}\n",
      "\n",
      "\n",
      "\n",
      "\n",
      "{'computing_id': 'jeb1cu', 'first_name': 'Justin', 'last_name': 'Bieber', 'dob': '3/1/1994', 'city_id': {'city_id': 13, 'zipcode': 19019, 'city': 'Philadelphia', 'state': 'Pennsylvania', 'football': 'Philadelphia Eagles', 'hockey': 'Philadelphia Flyers', 'baseball': 'Philadelphia Phillies', 'basketball': 'Philadelphia 76ers', 'pop_size': 1526006}, 'course_id': {'course_id': 'SYS 2001', 'school_id': 'SEAS', 'dept': 'SYS', 'credits': 3, 'prof_id': 1}, 'school_id': {'school_id': 'NUR', 'name': 'School of Nursing ', 'size ': 1201, 'year_founded': 1900, 'dean_chair': 'Mcdonnel', 'num_majors': 17}}\n",
      "\n",
      "\n",
      "\n",
      "\n",
      "{'computing_id': 'tej9ab', 'first_name': 'Thomas', 'last_name': 'Jefferson', 'dob': '4/13/1743', 'city_id': {'city_id': 3, 'zipcode': 15238, 'city': 'Pittsburgh', 'state': 'Pennsylvania', 'football': 'Pittsburgh Steelers', 'hockey': 'Pittsburgh Penguins', 'baseball': 'Pittsburgh Pirates', 'basketball': 'Pittsburgh Panthers', 'pop_size': 300286}, 'course_id': {'course_id': 'CS 2150', 'school_id': 'SEAS', 'dept': 'CS', 'credits': 3, 'prof_id': 2}, 'school_id': {'school_id': 'LAW', 'name': 'Law School ', 'size ': 832, 'year_founded': 1821, 'dean_chair': 'Yashtz ', 'num_majors': 4}}\n",
      "\n",
      "\n",
      "\n",
      "\n"
     ]
    }
   ],
   "source": [
    "all_student_dicts = []\n",
    "for i in range(len(student)):\n",
    "    temp_stud = student.iloc[i]\n",
    "    student_dict = {}\n",
    "    for j in range(len(temp_stud)):\n",
    "        if temp_stud.index[j] == 'city_id':\n",
    "            makeDict(city, j)\n",
    "        elif temp_stud.index[j] == 'course_id':\n",
    "            makeDict(course,j)\n",
    "        elif temp_stud.index[j] == 'school_id':\n",
    "            makeDict(school, j)\n",
    "        else:\n",
    "            student_dict[temp_stud.index[j]] = temp_stud[j]\n",
    "    print(student_dict)\n",
    "    all_student_dicts.append(student_dict)\n",
    "    print(\"\\n\\n\\n\")"
   ]
  },
  {
   "cell_type": "code",
   "execution_count": 12,
   "metadata": {},
   "outputs": [],
   "source": [
    "def makeInnerDict(key, person_arg, innerKey, innerDf):\n",
    "    curr_dict = person_arg.get(key)\n",
    "    curr_dict_id = curr_dict.get(innerKey)\n",
    "    inner_row = innerDf.loc[innerDf[innerKey] == curr_dict_id]\n",
    "    inner_row = inner_row.squeeze()\n",
    "    inner_dictionary = inner_row.to_dict()\n",
    "    for k, v in inner_dictionary.items():\n",
    "        if isinstance(v, np.int64):\n",
    "            v = int(v)\n",
    "            inner_dictionary[k] = v;\n",
    "        elif isinstance(v, np.bool_):\n",
    "            v = bool(v)\n",
    "            inner_dictionary[k] = v;\n",
    "    curr_dict[innerKey] = inner_dictionary"
   ]
  },
  {
   "cell_type": "code",
   "execution_count": 13,
   "metadata": {},
   "outputs": [
    {
     "name": "stdout",
     "output_type": "stream",
     "text": [
      "computing_id  :  csksnj\n",
      "first_name  :  Courtney\n",
      "last_name  :  Kennedy\n",
      "dob  :  10/22/2000\n",
      "city_id  :  {'city_id': 3, 'zipcode': 15238, 'city': 'Pittsburgh', 'state': 'Pennsylvania', 'football': 'Pittsburgh Steelers', 'hockey': 'Pittsburgh Penguins', 'baseball': 'Pittsburgh Pirates', 'basketball': 'Pittsburgh Panthers', 'pop_size': 300286}\n",
      "course_id  :  {'course_id': 'SYS 2202', 'school_id': {'school_id': 'SEAS', 'name': 'School of Engineering and Applied Science', 'size ': 3589, 'year_founded': 1901, 'dean_chair': 'Rodil ', 'num_majors': 9}, 'dept': 'SYS ', 'credits': 3, 'prof_id': {'prof_id': 7, 'prof_name': 'Reem Doryab', 'city_id': {'city_id': 8, 'zipcode': 21201, 'city': 'Baltimore', 'state': 'Maryland', 'football': 'Baltimore Ravens', 'hockey': 'Baltimore Clippers', 'baseball': 'Baltimore Orioles', 'basketball': 'Washington Wizards', 'pop_size': 609032}, 'school_id': {'school_id': 'SEAS', 'name': 'School of Engineering and Applied Science', 'size ': 3589, 'year_founded': 1901, 'dean_chair': 'Rodil ', 'num_majors': 9}, 'years_worked': 1, 'tenure': True, 'dept': 'SYS'}}\n",
      "school_id  :  {'school_id': 'SEAS', 'name': 'School of Engineering and Applied Science', 'size ': 3589, 'year_founded': 1901, 'dean_chair': 'Rodil ', 'num_majors': 9}\n",
      "\n",
      "\n",
      "\n",
      "computing_id  :  ztk2qv\n",
      "first_name  :  Zachery\n",
      "last_name  :  Key\n",
      "dob  :  6/20/2000\n",
      "city_id  :  {'city_id': 4, 'zipcode': 24523, 'city': 'Bedford', 'state': 'Virginia', 'football': 'Liberty Minutemen', 'hockey': 'Bedford Beds', 'baseball': 'Bedford Bases', 'basketball': 'Bedford Baskets', 'pop_size': 6562}\n",
      "course_id  :  {'course_id': 'ARCH 3200', 'school_id': {'school_id': 'ARCH', 'name': 'School of Architecture ', 'size ': 123, 'year_founded': 1989, 'dean_chair': 'Kim', 'num_majors': 5}, 'dept': 'ARCH ', 'credits': 3, 'prof_id': {'prof_id': 11, 'prof_name': 'Dennis Finestein', 'city_id': {'city_id': 2, 'zipcode': 24014, 'city': 'Roanoke', 'state': 'Virginia', 'football': 'Roanoke Steam', 'hockey': 'Roanoke Rail Yard Dawgs', 'baseball': 'Salem Red Sox', 'basketball': 'Roanoke Maroons', 'pop_size': 99229}, 'school_id': {'school_id': 'ARCH', 'name': 'School of Architecture ', 'size ': 123, 'year_founded': 1989, 'dean_chair': 'Kim', 'num_majors': 5}, 'years_worked': 5, 'tenure': False, 'dept': 'ARCH'}}\n",
      "school_id  :  {'school_id': 'SEAS', 'name': 'School of Engineering and Applied Science', 'size ': 3589, 'year_founded': 1901, 'dean_chair': 'Rodil ', 'num_majors': 9}\n",
      "\n",
      "\n",
      "\n",
      "computing_id  :  jms6vb\n",
      "first_name  :  Jon Marco\n",
      "last_name  :  Sanchez\n",
      "dob  :  4/20/1969\n",
      "city_id  :  {'city_id': 2, 'zipcode': 24014, 'city': 'Roanoke', 'state': 'Virginia', 'football': 'Roanoke Steam', 'hockey': 'Roanoke Rail Yard Dawgs', 'baseball': 'Salem Red Sox', 'basketball': 'Roanoke Maroons', 'pop_size': 99229}\n",
      "course_id  :  {'course_id': 'SYS 3034', 'school_id': {'school_id': 'SEAS', 'name': 'School of Engineering and Applied Science', 'size ': 3589, 'year_founded': 1901, 'dean_chair': 'Rodil ', 'num_majors': 9}, 'dept': 'SYS ', 'credits': 3, 'prof_id': {'prof_id': 5, 'prof_name': 'Reed Bailey', 'city_id': {'city_id': 5, 'zipcode': 90001, 'city': 'Los Angeles', 'state': 'California', 'football': 'LA Chargers', 'hockey': 'LA Kings', 'baseball': 'LA Dodgers', 'basketball': 'LA Lakers', 'pop_size': 3979576}, 'school_id': {'school_id': 'SEAS', 'name': 'School of Engineering and Applied Science', 'size ': 3589, 'year_founded': 1901, 'dean_chair': 'Rodil ', 'num_majors': 9}, 'years_worked': 4, 'tenure': False, 'dept': 'SYS'}}\n",
      "school_id  :  {'school_id': 'CAS', 'name': 'College of Arts and Sciences ', 'size ': 7301, 'year_founded': 1872, 'dean_chair': 'Alvarado ', 'num_majors': 152}\n",
      "\n",
      "\n",
      "\n",
      "computing_id  :  ac9kf\n",
      "first_name  :  Arwen\n",
      "last_name  :  Chandler\n",
      "dob  :  3/12/2002\n",
      "city_id  :  {'city_id': 1, 'zipcode': 22031, 'city': 'Fairfax', 'state': 'Virginia', 'football': 'Fairfax Rebels', 'hockey': 'Fairfax Narwhals', 'baseball': 'Burke Bulldogs', 'basketball': 'Fairfax Foxes', 'pop_size': 23531}\n",
      "course_id  :  {'course_id': 'KINE 1010', 'school_id': {'school_id': 'NUR', 'name': 'School of Nursing ', 'size ': 1201, 'year_founded': 1900, 'dean_chair': 'Mcdonnel', 'num_majors': 17}, 'dept': 'KINE', 'credits': 1, 'prof_id': {'prof_id': 6, 'prof_name': 'Rose Bud', 'city_id': {'city_id': 7, 'zipcode': 60007, 'city': 'Chicago', 'state': 'Illinois', 'football': 'Chicago Bears', 'hockey': 'Chicago Blackhawks', 'baseball': 'Chicago Cubs', 'basketball': 'Chicago Bulls', 'pop_size': 2693976}, 'school_id': {'school_id': 'NUR', 'name': 'School of Nursing ', 'size ': 1201, 'year_founded': 1900, 'dean_chair': 'Mcdonnel', 'num_majors': 17}, 'years_worked': 4, 'tenure': False, 'dept': 'KINE'}}\n",
      "school_id  :  {'school_id': 'CAS', 'name': 'College of Arts and Sciences ', 'size ': 7301, 'year_founded': 1872, 'dean_chair': 'Alvarado ', 'num_majors': 152}\n",
      "\n",
      "\n",
      "\n",
      "computing_id  :  tes2fl\n",
      "first_name  :  Taylor\n",
      "last_name  :  Swift\n",
      "dob  :  12/13/1989\n",
      "city_id  :  {'city_id': 10, 'zipcode': 94016, 'city': 'San Francisco', 'state': 'California', 'football': 'San Francisco 49ers', 'hockey': 'San Francisco Seals', 'baseball': 'San Francisco Giants', 'basketball': 'Golden State Warriors', 'pop_size': 874961}\n",
      "course_id  :  {'course_id': 'CS 2150', 'school_id': {'school_id': 'SEAS', 'name': 'School of Engineering and Applied Science', 'size ': 3589, 'year_founded': 1901, 'dean_chair': 'Rodil ', 'num_majors': 9}, 'dept': 'CS', 'credits': 3, 'prof_id': {'prof_id': 2, 'prof_name': 'Aaron Bloomfield', 'city_id': {'city_id': 2, 'zipcode': 24014, 'city': 'Roanoke', 'state': 'Virginia', 'football': 'Roanoke Steam', 'hockey': 'Roanoke Rail Yard Dawgs', 'baseball': 'Salem Red Sox', 'basketball': 'Roanoke Maroons', 'pop_size': 99229}, 'school_id': {'school_id': 'SEAS', 'name': 'School of Engineering and Applied Science', 'size ': 3589, 'year_founded': 1901, 'dean_chair': 'Rodil ', 'num_majors': 9}, 'years_worked': 1, 'tenure': False, 'dept': 'CS'}}\n",
      "school_id  :  {'school_id': 'CAS', 'name': 'College of Arts and Sciences ', 'size ': 7301, 'year_founded': 1872, 'dean_chair': 'Alvarado ', 'num_majors': 152}\n",
      "\n",
      "\n",
      "\n",
      "computing_id  :  jfe9fu\n",
      "first_name  :  Joe\n",
      "last_name  :  Exotic\n",
      "dob  :  3/5/1963\n",
      "city_id  :  {'city_id': 3, 'zipcode': 15238, 'city': 'Pittsburgh', 'state': 'Pennsylvania', 'football': 'Pittsburgh Steelers', 'hockey': 'Pittsburgh Penguins', 'baseball': 'Pittsburgh Pirates', 'basketball': 'Pittsburgh Panthers', 'pop_size': 300286}\n",
      "course_id  :  {'course_id': 'ENWR 1000', 'school_id': {'school_id': 'CAS', 'name': 'College of Arts and Sciences ', 'size ': 7301, 'year_founded': 1872, 'dean_chair': 'Alvarado ', 'num_majors': 152}, 'dept': 'ENWR', 'credits': 3, 'prof_id': {'prof_id': 3, 'prof_name': 'Maya Pittman', 'city_id': {'city_id': 13, 'zipcode': 19019, 'city': 'Philadelphia', 'state': 'Pennsylvania', 'football': 'Philadelphia Eagles', 'hockey': 'Philadelphia Flyers', 'baseball': 'Philadelphia Phillies', 'basketball': 'Philadelphia 76ers', 'pop_size': 1526006}, 'school_id': {'school_id': 'ARCH', 'name': 'School of Architecture ', 'size ': 123, 'year_founded': 1989, 'dean_chair': 'Kim', 'num_majors': 5}, 'years_worked': 4, 'tenure': True, 'dept': 'ARCH'}}\n",
      "school_id  :  {'school_id': 'COM', 'name': 'Mcintire School of Commerce ', 'size ': 357, 'year_founded': 1923, 'dean_chair': 'Najir', 'num_majors': 11}\n",
      "\n",
      "\n",
      "\n",
      "computing_id  :  ggf2re\n",
      "first_name  :  Guy\n",
      "last_name  :  Fieri\n",
      "dob  :  1/22/1968\n",
      "city_id  :  {'city_id': 7, 'zipcode': 60007, 'city': 'Chicago', 'state': 'Illinois', 'football': 'Chicago Bears', 'hockey': 'Chicago Blackhawks', 'baseball': 'Chicago Cubs', 'basketball': 'Chicago Bulls', 'pop_size': 2693976}\n",
      "course_id  :  {'course_id': 'SYS 2202', 'school_id': {'school_id': 'SEAS', 'name': 'School of Engineering and Applied Science', 'size ': 3589, 'year_founded': 1901, 'dean_chair': 'Rodil ', 'num_majors': 9}, 'dept': 'SYS ', 'credits': 3, 'prof_id': {'prof_id': 7, 'prof_name': 'Reem Doryab', 'city_id': {'city_id': 8, 'zipcode': 21201, 'city': 'Baltimore', 'state': 'Maryland', 'football': 'Baltimore Ravens', 'hockey': 'Baltimore Clippers', 'baseball': 'Baltimore Orioles', 'basketball': 'Washington Wizards', 'pop_size': 609032}, 'school_id': {'school_id': 'SEAS', 'name': 'School of Engineering and Applied Science', 'size ': 3589, 'year_founded': 1901, 'dean_chair': 'Rodil ', 'num_majors': 9}, 'years_worked': 1, 'tenure': True, 'dept': 'SYS'}}\n",
      "school_id  :  {'school_id': 'COM', 'name': 'Mcintire School of Commerce ', 'size ': 357, 'year_founded': 1923, 'dean_chair': 'Najir', 'num_majors': 11}\n",
      "\n",
      "\n",
      "\n",
      "computing_id  :  jeb1cu\n",
      "first_name  :  Justin\n",
      "last_name  :  Bieber\n",
      "dob  :  3/1/1994\n",
      "city_id  :  {'city_id': 13, 'zipcode': 19019, 'city': 'Philadelphia', 'state': 'Pennsylvania', 'football': 'Philadelphia Eagles', 'hockey': 'Philadelphia Flyers', 'baseball': 'Philadelphia Phillies', 'basketball': 'Philadelphia 76ers', 'pop_size': 1526006}\n",
      "course_id  :  {'course_id': 'SYS 2001', 'school_id': {'school_id': 'SEAS', 'name': 'School of Engineering and Applied Science', 'size ': 3589, 'year_founded': 1901, 'dean_chair': 'Rodil ', 'num_majors': 9}, 'dept': 'SYS', 'credits': 3, 'prof_id': {'prof_id': 1, 'prof_name': 'Brian Smith', 'city_id': {'city_id': 1, 'zipcode': 22031, 'city': 'Fairfax', 'state': 'Virginia', 'football': 'Fairfax Rebels', 'hockey': 'Fairfax Narwhals', 'baseball': 'Burke Bulldogs', 'basketball': 'Fairfax Foxes', 'pop_size': 23531}, 'school_id': {'school_id': 'SEAS', 'name': 'School of Engineering and Applied Science', 'size ': 3589, 'year_founded': 1901, 'dean_chair': 'Rodil ', 'num_majors': 9}, 'years_worked': 6, 'tenure': True, 'dept': 'SYS'}}\n",
      "school_id  :  {'school_id': 'NUR', 'name': 'School of Nursing ', 'size ': 1201, 'year_founded': 1900, 'dean_chair': 'Mcdonnel', 'num_majors': 17}\n",
      "\n",
      "\n",
      "\n",
      "computing_id  :  tej9ab\n",
      "first_name  :  Thomas\n",
      "last_name  :  Jefferson\n",
      "dob  :  4/13/1743\n",
      "city_id  :  {'city_id': 3, 'zipcode': 15238, 'city': 'Pittsburgh', 'state': 'Pennsylvania', 'football': 'Pittsburgh Steelers', 'hockey': 'Pittsburgh Penguins', 'baseball': 'Pittsburgh Pirates', 'basketball': 'Pittsburgh Panthers', 'pop_size': 300286}\n",
      "course_id  :  {'course_id': 'CS 2150', 'school_id': {'school_id': 'SEAS', 'name': 'School of Engineering and Applied Science', 'size ': 3589, 'year_founded': 1901, 'dean_chair': 'Rodil ', 'num_majors': 9}, 'dept': 'CS', 'credits': 3, 'prof_id': {'prof_id': 2, 'prof_name': 'Aaron Bloomfield', 'city_id': {'city_id': 2, 'zipcode': 24014, 'city': 'Roanoke', 'state': 'Virginia', 'football': 'Roanoke Steam', 'hockey': 'Roanoke Rail Yard Dawgs', 'baseball': 'Salem Red Sox', 'basketball': 'Roanoke Maroons', 'pop_size': 99229}, 'school_id': {'school_id': 'SEAS', 'name': 'School of Engineering and Applied Science', 'size ': 3589, 'year_founded': 1901, 'dean_chair': 'Rodil ', 'num_majors': 9}, 'years_worked': 1, 'tenure': False, 'dept': 'CS'}}\n",
      "school_id  :  {'school_id': 'LAW', 'name': 'Law School ', 'size ': 832, 'year_founded': 1821, 'dean_chair': 'Yashtz ', 'num_majors': 4}\n",
      "\n",
      "\n",
      "\n"
     ]
    }
   ],
   "source": [
    "for person in all_student_dicts:\n",
    "    makeInnerDict('course_id', person, 'school_id', school)\n",
    "    makeInnerDict('course_id', person, 'prof_id', prof)\n",
    "    curr_prof = person.get('course_id')\n",
    "    makeInnerDict('prof_id', curr_prof, 'school_id', school)\n",
    "    makeInnerDict('prof_id', curr_prof, 'city_id', city)\n",
    "    for key, value in person.items():\n",
    "        if isinstance(value, np.int64):\n",
    "            value = int(value)\n",
    "            person[key] = value;\n",
    "        elif isinstance(value, np.bool_):\n",
    "            value = bool(value)\n",
    "            person[key] = value;\n",
    "        print(key, ' : ', value)\n",
    "    print(\"\\n\\n\")"
   ]
  },
  {
   "cell_type": "code",
   "execution_count": 14,
   "metadata": {},
   "outputs": [],
   "source": [
    "for person in all_student_dicts:\n",
    "    collection.insert_one(person)"
   ]
  },
  {
   "cell_type": "code",
   "execution_count": 34,
   "metadata": {},
   "outputs": [
    {
     "data": {
      "text/plain": [
       "{'_id': ObjectId('60ba3d614da94feffc58f2df'),\n",
       " 'computing_id': 'ggf2re',\n",
       " 'first_name': 'Guy',\n",
       " 'last_name': 'Fieri',\n",
       " 'dob': '1/22/1968',\n",
       " 'city_id': {'city_id': 7,\n",
       "  'zipcode': 60007,\n",
       "  'city': 'Chicago',\n",
       "  'state': 'Illinois',\n",
       "  'football': 'Chicago Bears',\n",
       "  'hockey': 'Chicago Blackhawks',\n",
       "  'baseball': 'Chicago Cubs',\n",
       "  'basketball': 'Chicago Bulls',\n",
       "  'pop_size': 2693976},\n",
       " 'course_id': {'course_id': 'SYS 2202',\n",
       "  'school_id': {'school_id': 'SEAS',\n",
       "   'name': 'School of Engineering and Applied Science',\n",
       "   'size ': 3589,\n",
       "   'year_founded': 1901,\n",
       "   'dean_chair': 'Rodil ',\n",
       "   'num_majors': 9},\n",
       "  'dept': 'SYS ',\n",
       "  'credits': 3,\n",
       "  'prof_id': {'prof_id': 7,\n",
       "   'prof_name': 'Reem Doryab',\n",
       "   'city_id': {'city_id': 8,\n",
       "    'zipcode': 21201,\n",
       "    'city': 'Baltimore',\n",
       "    'state': 'Maryland',\n",
       "    'football': 'Baltimore Ravens',\n",
       "    'hockey': 'Baltimore Clippers',\n",
       "    'baseball': 'Baltimore Orioles',\n",
       "    'basketball': 'Washington Wizards',\n",
       "    'pop_size': 609032},\n",
       "   'school_id': {'school_id': 'SEAS',\n",
       "    'name': 'School of Engineering and Applied Science',\n",
       "    'size ': 3589,\n",
       "    'year_founded': 1901,\n",
       "    'dean_chair': 'Rodil ',\n",
       "    'num_majors': 9},\n",
       "   'years_worked': 1,\n",
       "   'tenure': True,\n",
       "   'dept': 'SYS'}},\n",
       " 'school_id': {'school_id': 'COM',\n",
       "  'name': 'Mcintire School of Commerce ',\n",
       "  'size ': 357,\n",
       "  'year_founded': 1923,\n",
       "  'dean_chair': 'Najir',\n",
       "  'num_majors': 11}}"
      ]
     },
     "execution_count": 34,
     "metadata": {},
     "output_type": "execute_result"
    }
   ],
   "source": [
    "collection.find_one({'computing_id':'ggf2re'})"
   ]
  },
  {
   "cell_type": "code",
   "execution_count": 48,
   "metadata": {},
   "outputs": [
    {
     "name": "stdout",
     "output_type": "stream",
     "text": [
      "Jon Marco Sanchez\n",
      "Arwen Chandler\n",
      "Taylor Swift\n"
     ]
    }
   ],
   "source": [
    "for student in collection.find({'school_id.school_id' : 'CAS'}):\n",
    "    print(student['first_name'], student['last_name'])"
   ]
  },
  {
   "cell_type": "code",
   "execution_count": 65,
   "metadata": {},
   "outputs": [
    {
     "name": "stdout",
     "output_type": "stream",
     "text": [
      "Dennis Finestein\n",
      "Jon Marco Sanchez\n",
      "Aaron Bloomfield\n",
      "Aaron Bloomfield\n"
     ]
    }
   ],
   "source": [
    "for person in collection.find({ \"$or\": [{'city_id.city' : 'Roanoke'}, {'course_id.prof_id.city_id.city' : 'Roanoke'}]}):\n",
    "    if person['course_id']['prof_id']['city_id']['city'] == 'Roanoke':\n",
    "        print(person['course_id']['prof_id']['prof_name'])\n",
    "    else:\n",
    "        print(person['first_name'], person['last_name'])"
   ]
  },
  {
   "cell_type": "code",
   "execution_count": null,
   "metadata": {},
   "outputs": [],
   "source": []
  }
 ],
 "metadata": {
  "kernelspec": {
   "display_name": "Python 3",
   "language": "python",
   "name": "python3"
  },
  "language_info": {
   "codemirror_mode": {
    "name": "ipython",
    "version": 3
   },
   "file_extension": ".py",
   "mimetype": "text/x-python",
   "name": "python",
   "nbconvert_exporter": "python",
   "pygments_lexer": "ipython3",
   "version": "3.7.4"
  }
 },
 "nbformat": 4,
 "nbformat_minor": 4
}
